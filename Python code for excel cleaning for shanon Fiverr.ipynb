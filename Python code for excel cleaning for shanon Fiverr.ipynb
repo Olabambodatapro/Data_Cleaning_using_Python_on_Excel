{
 "cells": [
  {
   "cell_type": "code",
   "execution_count": 1,
   "id": "2511ee24",
   "metadata": {},
   "outputs": [],
   "source": [
    "import pandas as pd"
   ]
  },
  {
   "cell_type": "code",
   "execution_count": 2,
   "id": "587c9dd7",
   "metadata": {},
   "outputs": [],
   "source": [
    "# Load the Excel file\n",
    "uploaded_file_path = \"customer_data_for_cleaning - Copy.xlsx\"  # Replace with your file name\n",
    "data = pd.read_excel(uploaded_file_path)"
   ]
  },
  {
   "cell_type": "code",
   "execution_count": 3,
   "id": "77c9c5e4",
   "metadata": {},
   "outputs": [],
   "source": [
    "# Step 1: Handle Missing Values\n",
    "# Impute numerical columns with mean\n",
    "numerical_cols = [\"Age\", \"Annual_Income\", \"Spending_Score\"]\n",
    "data[numerical_cols] = data[numerical_cols].fillna(data[numerical_cols].mean())"
   ]
  },
  {
   "cell_type": "code",
   "execution_count": 4,
   "id": "f61aabad",
   "metadata": {},
   "outputs": [],
   "source": [
    "# Step 2: Fix Data Types\n",
    "# Convert Last_Transaction_Date to datetime\n",
    "data[\"Last_Transaction_Date\"] = pd.to_datetime(data[\"Last_Transaction_Date\"])"
   ]
  },
  {
   "cell_type": "code",
   "execution_count": 5,
   "id": "4cb51569",
   "metadata": {},
   "outputs": [],
   "source": [
    "# Step 3: Standardize Categorical Values\n",
    "# Standardize text columns\n",
    "data[\"Gender\"] = data[\"Gender\"].str.title()\n",
    "data[\"Region\"] = data[\"Region\"].str.title()\n",
    "data[\"Membership_Status\"] = data[\"Membership_Status\"].str.title()\n"
   ]
  },
  {
   "cell_type": "code",
   "execution_count": 6,
   "id": "a32f06f5",
   "metadata": {},
   "outputs": [],
   "source": [
    "# Step 4: Detect and Treat Outliers\n",
    "# Use IQR for outlier detection and capping for numerical columns\n",
    "for col in numerical_cols:\n",
    "    Q1 = data[col].quantile(0.25)\n",
    "    Q3 = data[col].quantile(0.75)\n",
    "    IQR = Q3 - Q1\n",
    "    lower_bound = Q1 - 1.5 * IQR\n",
    "    upper_bound = Q3 + 1.5 * IQR\n",
    "\n",
    "    # Cap outliers\n",
    "    data[col] = data[col].clip(lower=lower_bound, upper=upper_bound)\n"
   ]
  },
  {
   "cell_type": "code",
   "execution_count": 7,
   "id": "af441835",
   "metadata": {},
   "outputs": [
    {
     "name": "stdout",
     "output_type": "stream",
     "text": [
      "Cleaned data exported to: cleaned_customer_data.xlsx\n"
     ]
    }
   ],
   "source": [
    "\n",
    "# Step 5: Export the Cleaned Data\n",
    "cleaned_file_path = \"cleaned_customer_data.xlsx\"  # Name of the output file\n",
    "data.to_excel(cleaned_file_path, index=False)\n",
    "\n",
    "print(f\"Cleaned data exported to: {cleaned_file_path}\")"
   ]
  },
  {
   "cell_type": "code",
   "execution_count": null,
   "id": "b2b5724f",
   "metadata": {},
   "outputs": [],
   "source": []
  }
 ],
 "metadata": {
  "kernelspec": {
   "display_name": "Python 3 (ipykernel)",
   "language": "python",
   "name": "python3"
  },
  "language_info": {
   "codemirror_mode": {
    "name": "ipython",
    "version": 3
   },
   "file_extension": ".py",
   "mimetype": "text/x-python",
   "name": "python",
   "nbconvert_exporter": "python",
   "pygments_lexer": "ipython3",
   "version": "3.9.13"
  }
 },
 "nbformat": 4,
 "nbformat_minor": 5
}
